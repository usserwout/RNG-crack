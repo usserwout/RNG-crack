{
 "cells": [
  {
   "cell_type": "code",
   "execution_count": 2,
   "id": "2d8c451a-b95c-40e6-b1ca-a13a4e1d086c",
   "metadata": {},
   "outputs": [],
   "source": [
    "from sage.all import *\n",
    "\n",
    "# Constants for `java.util.Random`\n",
    "BITS_TOTAL = 48\n",
    "a = 0x5DEECE66D\n",
    "c = 0xB\n",
    "\n",
    "m = 2**BITS_TOTAL"
   ]
  },
  {
   "cell_type": "code",
   "execution_count": 3,
   "id": "3bcb48b6-6e23-44f9-a0a3-cfa56156c9b0",
   "metadata": {},
   "outputs": [],
   "source": [
    "\n",
    "class LCG:\n",
    "    \"\"\"Simple Linear Congruential Generator implementation\"\"\"\n",
    "\n",
    "    def __init__(self, a, c, m, seed):\n",
    "        self.a = a\n",
    "        self.c = c\n",
    "        self.m = m\n",
    "        self.state = seed\n",
    "        self.counter = 0\n",
    "\n",
    "    def next_state(self):\n",
    "        self.state = (self.a * self.state + self.c) % self.m\n",
    "\n",
    "    def get_bits(self, n):\n",
    "        return self.state >> (BITS_TOTAL - n)\n",
    "\n",
    "\n",
    "def get_L(k):\n",
    "    M = matrix([m])\n",
    "    A = matrix([a**i for i in range(1, k)]).T\n",
    "    I = matrix.identity(k - 1) * -1\n",
    "    Z = matrix([0] * (k - 1))\n",
    "    L = block_matrix([[M, Z], [A, I]])\n",
    "    return L\n"
   ]
  },
  {
   "cell_type": "code",
   "execution_count": null,
   "id": "7ebff3cd-c529-417c-8c60-ea072fecf8b5",
   "metadata": {},
   "outputs": [],
   "source": [
    "\n",
    "def java_to_python(n):\n",
    "    \"\"\"Convert a Java integer to Python integer\"\"\"\n",
    "    return n if n >= 0 else n + 2**32\n",
    "\n",
    "\n",
    "def python_to_java(n):\n",
    "    \"\"\"Convert a Python integer to Java integer\"\"\"\n",
    "    return n if n < 2**31 else n - 2**32\n",
    "\n"
   ]
  },
  {
   "cell_type": "code",
   "execution_count": 4,
   "id": "d7a1b4ef-f127-41d2-8de2-387fc0209902",
   "metadata": {},
   "outputs": [
    {
     "name": "stdout",
     "output_type": "stream",
     "text": [
      "\u001b[0mTruncated states: \u001b[92m[168, 44, 176, 223, 226, 247, 230, 207]\u001b[0m\n",
      "\u001b[0m[                                                          281474976710656|                                                                        0                                                                         0                                                                         0                                                                         0                                                                         0                                                                         0                                                                         0]\n",
      "[-------------------------------------------------------------------------+-------------------------------------------------------------------------------------------------------------------------------------------------------------------------------------------------------------------------------------------------------------------------------------------------------------------------------------------------------------------------------------------------------------------------------------------------------------------------------------------------------------------------------------]\n",
      "[                                                              25214903917|                                                                       -1                                                                         0                                                                         0                                                                         0                                                                         0                                                                         0                                                                         0]\n",
      "[                                                    635791379543541942889|                                                                        0                                                                        -1                                                                         0                                                                         0                                                                         0                                                                         0                                                                         0]\n",
      "[                                         16031418546447289407805636396213|                                                                        0                                                                         0                                                                        -1                                                                         0                                                                         0                                                                         0                                                                         0]\n",
      "[                               404230678301880204122910951541548937666321|                                                                        0                                                                         0                                                                         0                                                                        -1                                                                         0                                                                         0                                                                         0]\n",
      "[                    10192637713685646067403546901467199496609706221879357|                                                                        0                                                                         0                                                                         0                                                                         0                                                                        -1                                                                         0                                                                         0]\n",
      "[          257006380611374121531649340785498501634084509634285069920741369|                                                                        0                                                                         0                                                                         0                                                                         0                                                                         0                                                                        -1                                                                         0]\n",
      "[6480391193171730191760819002442734025650908402686558847039120424742042373|                                                                        0                                                                         0                                                                         0                                                                         0                                                                         0                                                                         0                                                                        -1]\n",
      "\u001b[90mStates found: [185753720734415, 48973695446062, 194004564009889, 246107133972888, 248619153362371, 272076196875794, 252907395951029, 228694819430428]\u001b[0m\n",
      "Guesses: \u001b[91m[44, 164, 241, 235, 37, 5, 81, 252]\u001b[0m\n"
     ]
    }
   ],
   "source": [
    "\n",
    "\n",
    "\n",
    "\n",
    "def solve(truncated, bits_known):\n",
    "    \"\"\"Solve the truncated states in `truncated`, given `bits_known` known bits\"\"\"\n",
    "    bits_unknown = BITS_TOTAL - bits_known\n",
    "\n",
    "    K = [c]\n",
    "    for i in range(1, len(truncated)):\n",
    "        K.append((K[-1] + c * a**i) % m)\n",
    "    K = vector(K) # constant on the input vector length\n",
    "    L = get_L(len(truncated)) \n",
    "    print(L)\n",
    "    shifted = [(x * 2**bits_unknown - K[i]) % m for i, x in enumerate(truncated)]\n",
    "    B = L.LLL()\n",
    "    sys = vector(shifted)\n",
    "    sby = B * sys\n",
    "    ks = vector(round(x) for x in sby / m)\n",
    "    zs = B.solve_right(ks * m - sby)\n",
    "    tmp = sys + zs\n",
    "    results = [(tmp[i] + K[i]) % m for i in range(len(tmp))]\n",
    "    assert (L * vector(results)) % m == (L * K) % m  # Extra checking\n",
    "\n",
    "    return results\n",
    "\n",
    "\n",
    "if __name__ == \"__main__\":\n",
    "    from colorama import Fore, Style\n",
    "\n",
    "    n_bits = 8 # int(input(f\"Known bits: {Fore.LIGHTBLUE_EX}\"))\n",
    "    print(Style.RESET_ALL, end=\"\")\n",
    "\n",
    "    # Get user input\n",
    "    truncated = [\n",
    "        java_to_python(int(n)) for n in [168, 44, 176, 223, 226, 247, 230, 207 ]\n",
    "    ]\n",
    "    \n",
    "    print(f\"Truncated states: {Fore.LIGHTGREEN_EX}{truncated}{Style.RESET_ALL}\")\n",
    "    print(Style.RESET_ALL, end=\"\")\n",
    "\n",
    "    # Solve\n",
    "    results = solve(truncated, n_bits)\n",
    "    print(f\"{Fore.LIGHTBLACK_EX}States found: {results}{Style.RESET_ALL}\")\n",
    "\n",
    "    # Create a clone\n",
    "    clone = LCG(a, c, m, results[-1])\n",
    "\n",
    "    guesses = []\n",
    "    for _ in range(len(truncated)):\n",
    "        clone.next_state()\n",
    "        guesses.append(python_to_java(clone.get_bits(n_bits)))\n",
    "\n",
    "    print(f\"Guesses: {Fore.LIGHTRED_EX}{guesses}{Style.RESET_ALL}\")"
   ]
  },
  {
   "cell_type": "code",
   "execution_count": null,
   "id": "1e8980ee-02cb-405f-833e-f11315b24d3d",
   "metadata": {},
   "outputs": [],
   "source": []
  }
 ],
 "metadata": {
  "kernelspec": {
   "display_name": "SageMath 10.4",
   "language": "sage",
   "name": "sagemath-10.4"
  },
  "language_info": {
   "codemirror_mode": {
    "name": "ipython",
    "version": 3
   },
   "file_extension": ".py",
   "mimetype": "text/x-python",
   "name": "python",
   "nbconvert_exporter": "python",
   "pygments_lexer": "ipython3",
   "version": "3.12.4"
  }
 },
 "nbformat": 4,
 "nbformat_minor": 5
}
